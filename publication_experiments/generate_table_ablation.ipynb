{
 "cells": [
  {
   "cell_type": "code",
   "execution_count": 1,
   "id": "43d52c43",
   "metadata": {},
   "outputs": [],
   "source": [
    "import numpy as np\n",
    "import matplotlib.pyplot as plt\n",
    "import json\n",
    "import os, sys, glob\n",
    "from collections import defaultdict"
   ]
  },
  {
   "cell_type": "code",
   "execution_count": 2,
   "id": "13587691",
   "metadata": {},
   "outputs": [
    {
     "name": "stdout",
     "output_type": "stream",
     "text": [
      "rwap_results_single\\annthyroid_rwap_results.json\n",
      "rwap_results_single\\breastw_rwap_results.json\n",
      "rwap_results_single\\cardio_rwap_results.json\n",
      "rwap_results_single\\ionosphere_rwap_results.json\n",
      "rwap_results_single\\letter_rwap_results.json\n",
      "rwap_results_single\\mammography_rwap_results.json\n",
      "rwap_results_single\\mnist_rwap_results.json\n",
      "rwap_results_single\\optdigits_rwap_results.json\n",
      "rwap_results_single\\pendigits_rwap_results.json\n",
      "rwap_results_single\\pima_rwap_results.json\n",
      "rwap_results_single\\satellite_rwap_results.json\n",
      "rwap_results_single\\satimage-2_rwap_results.json\n",
      "rwap_results_single\\thyroid_rwap_results.json\n",
      "rwap_results_single\\vertebral_rwap_results.json\n",
      "rwap_results_single\\vowels_rwap_results.json\n",
      "rwap_results_single\\wbc_rwap_results.json\n",
      "rwap_results_single\\wine_rwap_results.json\n"
     ]
    }
   ],
   "source": [
    "matches = glob.glob('rwap_results_single/*.json', recursive=True)\n",
    "matches = [a for a in matches if \"secondary\" not in a]\n",
    "\n",
    "for match in matches:\n",
    "    print(match)"
   ]
  },
  {
   "cell_type": "markdown",
   "id": "16bd1c82",
   "metadata": {},
   "source": [
    "AUC"
   ]
  },
  {
   "cell_type": "code",
   "execution_count": 3,
   "id": "b973d12a",
   "metadata": {},
   "outputs": [],
   "source": [
    "def generate_table(data):\n",
    "# dataset, our_best_name, our_best_auc, ours_all, fixed_auc, from_scratch_auc, xstream_auc\n",
    "    table = \"\\\\begin{tabular}{l|c|c|c|}\\n\"\n",
    "    table += \"\\\\hline\\n\"\n",
    "    table += \"Dataset & force & keepsize & diffi \\\\\\\\ \\n\"\n",
    "    table += \"\\\\hline\\n\"\n",
    "    avg_force = []\n",
    "    avg_keepsize = []\n",
    "    avg_diffi = []\n",
    "    for dataset, results in data.items():\n",
    "        none = results['ours_none'][\"n_new_trees:100\"]*100\n",
    "        force = results['ours_force'][\"n_new_trees:100\"]*100\n",
    "        keepsize = results['ours_keepsize'][\"n_new_trees:100\"]*100\n",
    "        diffi = results['ours_diffi'][\"n_new_trees:100\"]*100\n",
    "        force_keepsize = results['ours_force_keepsize'][\"n_new_trees:100\"]*100\n",
    "        force_diffi = results['ours_force_diffi'][\"n_new_trees:100\"]*100\n",
    "        keepsize_diffi = results['ours_keepsize_diffi'][\"n_new_trees:100\"]*100\n",
    "        all = results['ours_all'][\"n_new_trees:100\"]*100\n",
    "\n",
    "        d_force = ((all - keepsize_diffi) + (force_diffi - diffi) + (force_keepsize - keepsize) + (force - none)) / 4\n",
    "        d_keepsize = ((all - force_diffi) + (force_keepsize - force) + (keepsize_diffi - diffi) + (keepsize - none)) / 4\n",
    "        d_diffi = ((all - force_keepsize) + (force_diffi - force) + (keepsize_diffi - keepsize) + (diffi - none)) / 4\n",
    "\n",
    "        avg_diffi.append(d_diffi)\n",
    "        avg_keepsize.append(d_keepsize)\n",
    "        avg_force.append(d_force)\n",
    "\n",
    "        table += f\"{dataset} & {d_force:.2f} & {d_keepsize:.2f} & {d_diffi:.2f} \\\\\\\\ \\n\"\n",
    "\n",
    "    table += \"\\\\hline\\n\"\n",
    "    table += f\"Average & {np.mean(avg_force):.2f} & {np.mean(avg_keepsize):.2f} & {np.mean(avg_diffi):.2f} \\\\\\\\ \\n\"\n",
    "    table += \"\\\\hline\\n\"\n",
    "    table += \"\\\\end{tabular}\\n\"\n",
    "\n",
    "    return table"
   ]
  },
  {
   "cell_type": "code",
   "execution_count": 4,
   "id": "74de1988",
   "metadata": {},
   "outputs": [],
   "source": [
    "save_file = \"rwp_table_ablation.tex\"\n",
    "data = {}\n",
    "for match in matches:\n",
    "    dataset_name = os.path.basename(match).split(\"_rwap_results.json\")[0]\n",
    "    with open(match, \"r\") as f:\n",
    "        data[dataset_name] = json.load(f)\n",
    "table = generate_table(data)\n",
    "with open(save_file, \"w\") as f:\n",
    "    f.write(table)\n",
    "\n",
    "    \n",
    "\n"
   ]
  }
 ],
 "metadata": {
  "kernelspec": {
   "display_name": "Andritz",
   "language": "python",
   "name": "python3"
  },
  "language_info": {
   "codemirror_mode": {
    "name": "ipython",
    "version": 3
   },
   "file_extension": ".py",
   "mimetype": "text/x-python",
   "name": "python",
   "nbconvert_exporter": "python",
   "pygments_lexer": "ipython3",
   "version": "3.9.18"
  }
 },
 "nbformat": 4,
 "nbformat_minor": 5
}
