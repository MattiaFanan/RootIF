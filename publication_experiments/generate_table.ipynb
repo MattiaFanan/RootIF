{
 "cells": [
  {
   "cell_type": "code",
   "execution_count": 16,
   "id": "43d52c43",
   "metadata": {},
   "outputs": [],
   "source": [
    "import numpy as np\n",
    "import matplotlib.pyplot as plt\n",
    "import json\n",
    "import os, sys, glob\n",
    "from collections import defaultdict"
   ]
  },
  {
   "cell_type": "code",
   "execution_count": 17,
   "id": "13587691",
   "metadata": {},
   "outputs": [
    {
     "name": "stdout",
     "output_type": "stream",
     "text": [
      "rwap_results_single\\annthyroid_rwap_results.json\n",
      "rwap_results_single\\breastw_rwap_results.json\n",
      "rwap_results_single\\cardio_rwap_results.json\n",
      "rwap_results_single\\ionosphere_rwap_results.json\n",
      "rwap_results_single\\letter_rwap_results.json\n",
      "rwap_results_single\\mammography_rwap_results.json\n",
      "rwap_results_single\\mnist_rwap_results.json\n",
      "rwap_results_single\\optdigits_rwap_results.json\n",
      "rwap_results_single\\pendigits_rwap_results.json\n",
      "rwap_results_single\\pima_rwap_results.json\n",
      "rwap_results_single\\satellite_rwap_results.json\n",
      "rwap_results_single\\satimage-2_rwap_results.json\n",
      "rwap_results_single\\thyroid_rwap_results.json\n",
      "rwap_results_single\\vertebral_rwap_results.json\n",
      "rwap_results_single\\vowels_rwap_results.json\n",
      "rwap_results_single\\wbc_rwap_results.json\n",
      "rwap_results_single\\wine_rwap_results.json\n"
     ]
    }
   ],
   "source": [
    "matches = glob.glob('rwap_results_single/*.json', recursive=True)\n",
    "matches = [a for a in matches if \"secondary\" not in a]\n",
    "\n",
    "for match in matches:\n",
    "    print(match)"
   ]
  },
  {
   "cell_type": "markdown",
   "id": "16bd1c82",
   "metadata": {},
   "source": [
    "AUC"
   ]
  },
  {
   "cell_type": "code",
   "execution_count": 18,
   "id": "b973d12a",
   "metadata": {},
   "outputs": [],
   "source": [
    "def generate_table(data):\n",
    "# dataset, our_best_name, our_best_auc, ours_all, fixed_auc, from_scratch_auc, xstream_auc\n",
    "    table = \"\\\\begin{tabular}{l|c|c|c|c|c|c}\\n\"\n",
    "    table += \"\\\\hline\\n\"\n",
    "    table += \"Dataset & Our Other Best Name & Our Other Best RWP & Ours All & Fixed RWP & From Scratch RWP & XStream RWP \\\\\\\\ \\n\"\n",
    "    table += \"\\\\hline\\n\"\n",
    "\n",
    "    for dataset, results in data.items():\n",
    "        xstream = results['xStream'][\"n_new_trees:100\"]*100\n",
    "        fixed = results['fixed'][\"n_new_trees:100\"]*100\n",
    "        from_scratch = results['from_scratch'][\"n_new_trees:100\"]*100\n",
    "        ours_all = results['ours_all'][\"n_new_trees:100\"]*100\n",
    "        ours = list(results.keys())\n",
    "        ours.remove(\"xStream\")\n",
    "        ours.remove(\"fixed\")\n",
    "        ours.remove(\"from_scratch\")\n",
    "        ours.remove(\"ours_all\")\n",
    "        ours_res = [(name, results[name][\"n_new_trees:100\"]) for name in ours]\n",
    "        ours_res = sorted(ours_res, key=lambda x: x[1], reverse=True)\n",
    "\n",
    "        ours_name = ours_res[0][0].split(\"ours_\")[1]\n",
    "        ours_rwp = ours_res[0][1]*100\n",
    "\n",
    "        table += f\"{dataset} & {ours_name} & {ours_rwp:.2f} & {ours_all:.2f} & {fixed:.2f} & {from_scratch:.2f} & {xstream:.2f} \\\\\\\\ \\n\"\n",
    "\n",
    "    table += \"\\\\hline\\n\"\n",
    "    table += \"\\\\end{tabular}\\n\"\n",
    "\n",
    "    return table"
   ]
  },
  {
   "cell_type": "code",
   "execution_count": 19,
   "id": "74de1988",
   "metadata": {},
   "outputs": [],
   "source": [
    "save_file = \"rwp_table.tex\"\n",
    "data = {}\n",
    "for match in matches:\n",
    "    dataset_name = os.path.basename(match).split(\"_rwap_results.json\")[0]\n",
    "    with open(match, \"r\") as f:\n",
    "        data[dataset_name] = json.load(f)\n",
    "table = generate_table(data)\n",
    "with open(save_file, \"w\") as f:\n",
    "    f.write(table)\n",
    "\n",
    "    \n",
    "\n"
   ]
  }
 ],
 "metadata": {
  "kernelspec": {
   "display_name": "Andritz",
   "language": "python",
   "name": "python3"
  },
  "language_info": {
   "codemirror_mode": {
    "name": "ipython",
    "version": 3
   },
   "file_extension": ".py",
   "mimetype": "text/x-python",
   "name": "python",
   "nbconvert_exporter": "python",
   "pygments_lexer": "ipython3",
   "version": "3.9.18"
  }
 },
 "nbformat": 4,
 "nbformat_minor": 5
}
