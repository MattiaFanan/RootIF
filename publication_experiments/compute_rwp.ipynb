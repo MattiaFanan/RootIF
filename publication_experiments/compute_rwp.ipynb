{
 "cells": [
  {
   "cell_type": "code",
   "execution_count": 6,
   "id": "43d52c43",
   "metadata": {},
   "outputs": [],
   "source": [
    "import numpy as np\n",
    "import matplotlib.pyplot as plt\n",
    "import json\n",
    "import os, sys, glob\n",
    "from collections import defaultdict"
   ]
  },
  {
   "cell_type": "code",
   "execution_count": 7,
   "id": "13587691",
   "metadata": {},
   "outputs": [
    {
     "name": "stdout",
     "output_type": "stream",
     "text": [
      "average_results\\annthyroid_results.json\n",
      "average_results\\breastw_results.json\n",
      "average_results\\cardio_results.json\n",
      "average_results\\ionosphere_results.json\n",
      "average_results\\letter_results.json\n",
      "average_results\\mammography_results.json\n",
      "average_results\\mnist_results.json\n",
      "average_results\\optdigits_results.json\n",
      "average_results\\pendigits_results.json\n",
      "average_results\\pima_results.json\n",
      "average_results\\satellite_results.json\n",
      "average_results\\satimage-2_results.json\n",
      "average_results\\thyroid_results.json\n",
      "average_results\\vertebral_results.json\n",
      "average_results\\vowels_results.json\n",
      "average_results\\wbc_results.json\n",
      "average_results\\wine_results.json\n"
     ]
    }
   ],
   "source": [
    "matches = glob.glob('average_results/*.json', recursive=True)\n",
    "matches = [a for a in matches if \"secondary\" not in a]\n",
    "\n",
    "for match in matches:\n",
    "    print(match)"
   ]
  },
  {
   "cell_type": "markdown",
   "id": "16bd1c82",
   "metadata": {},
   "source": [
    "AUC"
   ]
  },
  {
   "cell_type": "code",
   "execution_count": 8,
   "id": "b973d12a",
   "metadata": {},
   "outputs": [],
   "source": [
    "def weighted_auc_lin(x, y):\n",
    "\n",
    "    exp = np.nextafter(1.0, 2.0) # just above 1 for serie coveragence\n",
    "    #exp = 2\n",
    "\n",
    "    x = np.array(x)\n",
    "    y = np.array(y)\n",
    "\n",
    "    if len(x) != len(y):\n",
    "        raise ValueError(\"x and y must have the same length\")\n",
    "    if len(x) < 2:\n",
    "        raise ValueError(\"x and y must have at least two elements (one trapezoid)\")\n",
    "\n",
    "    auc = 0.0\n",
    "    sum_w = 0.0\n",
    "    prev_w = 1 / ((x[0] + 1) ** exp)  \n",
    "\n",
    "    for i in range(1, len(x)):\n",
    "        curr_w = 1 / ((x[i] + 1) ** exp)\n",
    "\n",
    "        trapezoid_area = (x[i] - x[i-1]) * (prev_w * y[i-1] + curr_w * y[i]) / 2.0\n",
    "        auc += trapezoid_area\n",
    "\n",
    "        trapezoid_w = (x[i] - x[i-1]) * (prev_w + curr_w) / 2.0\n",
    "        sum_w += trapezoid_w\n",
    "    \n",
    "    return auc / sum_w"
   ]
  },
  {
   "cell_type": "code",
   "execution_count": 9,
   "id": "74de1988",
   "metadata": {},
   "outputs": [],
   "source": [
    "save_path = \"rwap_results_single\"\n",
    "for match in matches:\n",
    "    base_path = os.path.dirname(match)\n",
    "    file_name = os.path.basename(match)\n",
    "    file_name = file_name.replace(\"results\", \"rwap_results\")\n",
    "    save_file = os.path.join(save_path, file_name)\n",
    "    if not os.path.exists(save_path):\n",
    "        os.makedirs(save_path, exist_ok=False)\n",
    "\n",
    "    with open(match, 'r') as f:\n",
    "        results = json.load(f)\n",
    "    \n",
    "    results = results[\"average_precision\"]\n",
    "    # model -> n_new_trees -> n_features  -> blocks\n",
    "    output = defaultdict(lambda: defaultdict(dict))\n",
    "\n",
    "    for model in results:\n",
    "        for n_new_trees in results[model]:\n",
    "            auc = []\n",
    "            for nfeatures in results[model][n_new_trees]:\n",
    "                xy = list(results[model][n_new_trees][nfeatures].items())\n",
    "                xy = sorted(xy, key=lambda a: int(a[0].split(\":\")[-1]))\n",
    "                x = [int(a[0].split(\":\")[-1]) for a in xy]\n",
    "                y = [a[1] for a in xy]\n",
    "                \n",
    "                auc.append(weighted_auc_lin(x, y))\n",
    "\n",
    "                # elbowx cannot be zero, safe to divide\n",
    "            output[model][n_new_trees] = np.mean(auc)\n",
    "    \n",
    "    with open(save_file, 'w', encoding='utf-8') as f:\n",
    "        json.dump(output, f, indent=4)\n",
    "\n",
    "    \n",
    "\n"
   ]
  }
 ],
 "metadata": {
  "kernelspec": {
   "display_name": "Andritz",
   "language": "python",
   "name": "python3"
  },
  "language_info": {
   "codemirror_mode": {
    "name": "ipython",
    "version": 3
   },
   "file_extension": ".py",
   "mimetype": "text/x-python",
   "name": "python",
   "nbconvert_exporter": "python",
   "pygments_lexer": "ipython3",
   "version": "3.9.18"
  }
 },
 "nbformat": 4,
 "nbformat_minor": 5
}
