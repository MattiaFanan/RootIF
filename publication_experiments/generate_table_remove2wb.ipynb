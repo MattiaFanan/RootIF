{
 "cells": [
  {
   "cell_type": "code",
   "execution_count": 26,
   "id": "43d52c43",
   "metadata": {},
   "outputs": [],
   "source": [
    "import numpy as np\n",
    "import matplotlib.pyplot as plt\n",
    "import json\n",
    "import os, sys, glob\n",
    "from collections import defaultdict\n",
    "import re"
   ]
  },
  {
   "cell_type": "code",
   "execution_count": null,
   "id": "13587691",
   "metadata": {},
   "outputs": [
    {
     "name": "stdout",
     "output_type": "stream",
     "text": [
      "enxhi_thesis_xstream_cpp\\results_annthyroid\\annthyroid_general_info.txt\n",
      "enxhi_thesis_xstream_cpp\\results_breastw\\breastw_general_info.txt\n",
      "enxhi_thesis_xstream_cpp\\results_cardio\\cardio_general_info.txt\n",
      "enxhi_thesis_xstream_cpp\\results_ionosphere\\ionosphere_general_info.txt\n",
      "enxhi_thesis_xstream_cpp\\results_letter\\letter_general_info.txt\n",
      "enxhi_thesis_xstream_cpp\\results_mammography\\mammography_general_info.txt\n",
      "enxhi_thesis_xstream_cpp\\results_mnist\\mnist_general_info.txt\n",
      "enxhi_thesis_xstream_cpp\\results_optdigits\\optdigits_general_info.txt\n",
      "enxhi_thesis_xstream_cpp\\results_pendigits\\pendigits_general_info.txt\n",
      "enxhi_thesis_xstream_cpp\\results_pima\\pima_general_info.txt\n",
      "enxhi_thesis_xstream_cpp\\results_satellite\\satellite_general_info.txt\n",
      "enxhi_thesis_xstream_cpp\\results_satimage-2\\satimage-2_general_info.txt\n",
      "enxhi_thesis_xstream_cpp\\results_thyroid\\thyroid_general_info.txt\n",
      "enxhi_thesis_xstream_cpp\\results_vertebral\\vertebral_general_info.txt\n",
      "enxhi_thesis_xstream_cpp\\results_vowels\\vowels_general_info.txt\n",
      "enxhi_thesis_xstream_cpp\\results_wbc\\wbc_general_info.txt\n",
      "enxhi_thesis_xstream_cpp\\results_wine\\wine_general_info.txt\n"
     ]
    }
   ],
   "source": [
    "matches = glob.glob('experiment_ablation/*/*info.txt', recursive=True)\n",
    "matches = [a for a in matches if \"secondary\" not in a]\n",
    "\n",
    "for match in matches:\n",
    "    print(match)"
   ]
  },
  {
   "cell_type": "markdown",
   "id": "16bd1c82",
   "metadata": {},
   "source": [
    "AUC"
   ]
  },
  {
   "cell_type": "code",
   "execution_count": 28,
   "id": "b973d12a",
   "metadata": {},
   "outputs": [],
   "source": [
    "def generate_table(data):\n",
    "# dataset, our_best_name, our_best_auc, ours_all, fixed_auc, from_scratch_auc, xstream_auc\n",
    "    table = \"\\\\begin{tabular}{l|c|}\\n\"\n",
    "    table += \"\\\\hline\\n\"\n",
    "    table += \"Dataset & \\\\ac{ap} difference \\\\\\\\ \\n\"\n",
    "    table += \"\\\\hline\\n\"\n",
    "\n",
    "    for dataset, results in data.items():\n",
    "\n",
    "        table += f\"{dataset} & {results:.2f} \\\\\\\\ \\n\"\n",
    "\n",
    "    table += \"\\\\hline\\n\"\n",
    "    table += \"\\\\end{tabular}\\n\"\n",
    "\n",
    "    return table"
   ]
  },
  {
   "cell_type": "code",
   "execution_count": 29,
   "id": "74de1988",
   "metadata": {},
   "outputs": [],
   "source": [
    "save_file = \"r2wb_table.tex\"\n",
    "data = {}\n",
    "regex = r\"AP difference after removing 2 best and worst features: mean=(-?\\d*\\.?\\d+), std=(\\d*\\.?\\d+)\"\n",
    "for match in matches:\n",
    "    dataset_name = os.path.basename(match).split(\"_general_info.txt\")[0]\n",
    "    with open(match, \"r\") as f:\n",
    "        content  = f.read()\n",
    "        entries = re.findall(regex, content)\n",
    "        data[dataset_name] = float(entries[0][0])\n",
    "        \n",
    "table = generate_table(data)\n",
    "with open(save_file, \"w\") as f:\n",
    "    f.write(table)\n",
    "\n",
    "    \n",
    "\n"
   ]
  }
 ],
 "metadata": {
  "kernelspec": {
   "display_name": "Andritz",
   "language": "python",
   "name": "python3"
  },
  "language_info": {
   "codemirror_mode": {
    "name": "ipython",
    "version": 3
   },
   "file_extension": ".py",
   "mimetype": "text/x-python",
   "name": "python",
   "nbconvert_exporter": "python",
   "pygments_lexer": "ipython3",
   "version": "3.9.18"
  }
 },
 "nbformat": 4,
 "nbformat_minor": 5
}
